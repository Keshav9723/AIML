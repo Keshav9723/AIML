{
  "nbformat": 4,
  "nbformat_minor": 0,
  "metadata": {
    "colab": {
      "provenance": [],
      "authorship_tag": "ABX9TyOQj5OejOXn4V+MXoWEPh/h",
      "include_colab_link": true
    },
    "kernelspec": {
      "name": "python3",
      "display_name": "Python 3"
    },
    "language_info": {
      "name": "python"
    }
  },
  "cells": [
    {
      "cell_type": "markdown",
      "metadata": {
        "id": "view-in-github",
        "colab_type": "text"
      },
      "source": [
        "<a href=\"https://colab.research.google.com/github/Keshav9723/AIML/blob/main/Exp1BasicCommands.ipynb\" target=\"_parent\"><img src=\"https://colab.research.google.com/assets/colab-badge.svg\" alt=\"Open In Colab\"/></a>"
      ]
    },
    {
      "cell_type": "code",
      "execution_count": null,
      "metadata": {
        "id": "UPgENpJpGbtZ"
      },
      "outputs": [],
      "source": [
        "import numpy as np\n",
        "import os"
      ]
    },
    {
      "cell_type": "code",
      "source": [
        "a=np.array([1,2,3,4])\n",
        "print(a)"
      ],
      "metadata": {
        "colab": {
          "base_uri": "https://localhost:8080/"
        },
        "id": "TW_iNrUmGv9q",
        "outputId": "20584c48-4502-44d1-e242-9d158e09e124"
      },
      "execution_count": null,
      "outputs": [
        {
          "output_type": "stream",
          "name": "stdout",
          "text": [
            "[1 2 3 4]\n"
          ]
        }
      ]
    },
    {
      "cell_type": "code",
      "source": [
        "b=np.array([6.9,8.8,9.1,4.2])\n",
        "c=a+b\n",
        "print(c)"
      ],
      "metadata": {
        "colab": {
          "base_uri": "https://localhost:8080/"
        },
        "id": "wsTU59vSHitl",
        "outputId": "046730b8-f301-4679-d5b7-7fc3d447c01b"
      },
      "execution_count": null,
      "outputs": [
        {
          "output_type": "stream",
          "name": "stdout",
          "text": [
            "[ 7.9 10.8 12.1  8.2]\n"
          ]
        }
      ]
    },
    {
      "cell_type": "code",
      "source": [
        "c.sort()\n",
        "print(c)"
      ],
      "metadata": {
        "colab": {
          "base_uri": "https://localhost:8080/"
        },
        "id": "4HMp453iH_OF",
        "outputId": "842c4f19-1003-4530-d3f8-cfb12c1ad806"
      },
      "execution_count": null,
      "outputs": [
        {
          "output_type": "stream",
          "name": "stdout",
          "text": [
            "[ 7.9  8.2 10.8 12.1]\n"
          ]
        }
      ]
    },
    {
      "cell_type": "code",
      "source": [
        "d=np.array([(1,2,3),(4,5,6)], dtype=float)\n",
        "d"
      ],
      "metadata": {
        "colab": {
          "base_uri": "https://localhost:8080/"
        },
        "id": "VWwZ6NDDItVd",
        "outputId": "bec12e9a-fa6a-4226-a010-e48174e9c861"
      },
      "execution_count": null,
      "outputs": [
        {
          "output_type": "execute_result",
          "data": {
            "text/plain": [
              "array([[1., 2., 3.],\n",
              "       [4., 5., 6.]])"
            ]
          },
          "metadata": {},
          "execution_count": 32
        }
      ]
    },
    {
      "cell_type": "code",
      "source": [
        "e=np.array([(6,9,0),(4,2,7)], dtype=float)\n",
        "print(d+e)"
      ],
      "metadata": {
        "colab": {
          "base_uri": "https://localhost:8080/"
        },
        "id": "X433sMekJH-l",
        "outputId": "ddbbb819-609f-4dfe-833a-c8699c6ce895"
      },
      "execution_count": null,
      "outputs": [
        {
          "output_type": "stream",
          "name": "stdout",
          "text": [
            "[[ 7. 11.  3.]\n",
            " [ 8.  7. 13.]]\n"
          ]
        }
      ]
    },
    {
      "cell_type": "code",
      "source": [
        "print(d*e)"
      ],
      "metadata": {
        "colab": {
          "base_uri": "https://localhost:8080/"
        },
        "id": "dbzbes5aKrh1",
        "outputId": "28dad170-2656-4c25-c892-97831f6ce433"
      },
      "execution_count": null,
      "outputs": [
        {
          "output_type": "stream",
          "name": "stdout",
          "text": [
            "[[ 6. 18.  0.]\n",
            " [16. 10. 42.]]\n"
          ]
        }
      ]
    },
    {
      "cell_type": "code",
      "source": [
        "g=np.zeros((3,3))\n",
        "print(g)"
      ],
      "metadata": {
        "colab": {
          "base_uri": "https://localhost:8080/"
        },
        "id": "1WsbUT1SKfiv",
        "outputId": "e9f89ad7-e34d-4b92-a1aa-d68d1aaa762b"
      },
      "execution_count": null,
      "outputs": [
        {
          "output_type": "stream",
          "name": "stdout",
          "text": [
            "[[0. 0. 0.]\n",
            " [0. 0. 0.]\n",
            " [0. 0. 0.]]\n"
          ]
        }
      ]
    },
    {
      "cell_type": "code",
      "source": [
        "h=np.ones((3,3))\n",
        "print(h)"
      ],
      "metadata": {
        "colab": {
          "base_uri": "https://localhost:8080/"
        },
        "id": "CwDhcc1ULKqg",
        "outputId": "039df1bf-15c3-430d-f14a-299376a453f3"
      },
      "execution_count": null,
      "outputs": [
        {
          "output_type": "stream",
          "name": "stdout",
          "text": [
            "[[1. 1. 1.]\n",
            " [1. 1. 1.]\n",
            " [1. 1. 1.]]\n"
          ]
        }
      ]
    },
    {
      "cell_type": "code",
      "source": [
        "i=np.arange(10,25,5) #Gives array of numbers from 10 to 25 adding 5 at a time (excluding 25)\n",
        "print(i)"
      ],
      "metadata": {
        "colab": {
          "base_uri": "https://localhost:8080/"
        },
        "id": "iXb7jjzkLbqI",
        "outputId": "c5b17e5d-718e-4fd4-a11c-21f681ace8b9"
      },
      "execution_count": null,
      "outputs": [
        {
          "output_type": "stream",
          "name": "stdout",
          "text": [
            "[10 15 20]\n"
          ]
        }
      ]
    },
    {
      "cell_type": "code",
      "source": [
        "j=np.linspace(0,2,9) #Gives 9 numbers between 0 and 2\n",
        "print(j)"
      ],
      "metadata": {
        "colab": {
          "base_uri": "https://localhost:8080/"
        },
        "id": "NBXUxvNEMDvD",
        "outputId": "ce209c95-e2d5-4c52-eac0-77a06dfbb6e4"
      },
      "execution_count": null,
      "outputs": [
        {
          "output_type": "stream",
          "name": "stdout",
          "text": [
            "[0.   0.25 0.5  0.75 1.   1.25 1.5  1.75 2.  ]\n"
          ]
        }
      ]
    },
    {
      "cell_type": "code",
      "source": [
        "k=np.full((2,2),7) #Creates and 2x2 matriz with all elements as 7\n",
        "print(k)"
      ],
      "metadata": {
        "colab": {
          "base_uri": "https://localhost:8080/"
        },
        "id": "faF7EvAEMzMv",
        "outputId": "0b6f9e3a-75af-47ee-be87-9060b33ba116"
      },
      "execution_count": null,
      "outputs": [
        {
          "output_type": "stream",
          "name": "stdout",
          "text": [
            "[[7 7]\n",
            " [7 7]]\n"
          ]
        }
      ]
    },
    {
      "cell_type": "code",
      "source": [
        "l=np.eye(2) #Generates an identity matriz of order 2x2\n",
        "print(l)"
      ],
      "metadata": {
        "colab": {
          "base_uri": "https://localhost:8080/"
        },
        "id": "yTi3ISk2NRjv",
        "outputId": "de36d31b-78eb-4350-9dee-d586fec87299"
      },
      "execution_count": null,
      "outputs": [
        {
          "output_type": "stream",
          "name": "stdout",
          "text": [
            "[[1. 0.]\n",
            " [0. 1.]]\n"
          ]
        }
      ]
    },
    {
      "cell_type": "code",
      "source": [
        "m=np.random.random((2,2)) #Gives 2x2 matrix with random values\n",
        "print(m)"
      ],
      "metadata": {
        "colab": {
          "base_uri": "https://localhost:8080/"
        },
        "id": "ERbkmOHpN859",
        "outputId": "2e9e80d7-28d0-41dd-83e5-9f0f948f38d5"
      },
      "execution_count": null,
      "outputs": [
        {
          "output_type": "stream",
          "name": "stdout",
          "text": [
            "[[0.4582789  0.69935761]\n",
            " [0.99652813 0.67490225]]\n"
          ]
        }
      ]
    },
    {
      "cell_type": "code",
      "source": [
        "print(np.add(a,b))\n",
        "print(np.subtract(a,b))\n",
        "print(np.multiply(a,b))\n",
        "print(np.divide(a,b))"
      ],
      "metadata": {
        "colab": {
          "base_uri": "https://localhost:8080/"
        },
        "id": "0qwjxAd4QALI",
        "outputId": "1d09a460-4df0-414b-f570-68ce3dfa5748"
      },
      "execution_count": null,
      "outputs": [
        {
          "output_type": "stream",
          "name": "stdout",
          "text": [
            "[ 7.9 10.8 12.1  8.2]\n",
            "[-5.9 -6.8 -6.1 -0.2]\n",
            "[ 6.9 17.6 27.3 16.8]\n",
            "[0.14492754 0.22727273 0.32967033 0.95238095]\n"
          ]
        }
      ]
    },
    {
      "cell_type": "code",
      "source": [
        "n=np.array([2,4,3,5])\n",
        "print(np.exp(n))\n",
        "print(np.sqrt(n))\n",
        "print(np.sin(n))\n",
        "print(np.cos(n))\n",
        "print(np.log(n))\n"
      ],
      "metadata": {
        "colab": {
          "base_uri": "https://localhost:8080/"
        },
        "id": "gMi1pHBlQaLL",
        "outputId": "aa483a93-ff47-44bb-bc38-8bdf014f3702"
      },
      "execution_count": null,
      "outputs": [
        {
          "output_type": "stream",
          "name": "stdout",
          "text": [
            "[  7.3890561   54.59815003  20.08553692 148.4131591 ]\n",
            "[1.41421356 2.         1.73205081 2.23606798]\n",
            "[ 0.90929743 -0.7568025   0.14112001 -0.95892427]\n",
            "[-0.41614684 -0.65364362 -0.9899925   0.28366219]\n",
            "[0.69314718 1.38629436 1.09861229 1.60943791]\n"
          ]
        }
      ]
    },
    {
      "cell_type": "code",
      "source": [
        "print(a==n) #Give output for each element seprately\n",
        "print(a<2)\n",
        "print(np.array_equal(a,n)) #Give one output"
      ],
      "metadata": {
        "colab": {
          "base_uri": "https://localhost:8080/"
        },
        "id": "-CyaW1bjQ4cK",
        "outputId": "340c5f12-a141-4fa1-8ae3-57f682c12f1e"
      },
      "execution_count": null,
      "outputs": [
        {
          "output_type": "stream",
          "name": "stdout",
          "text": [
            "[False False  True False]\n",
            "[ True False False False]\n",
            "False\n"
          ]
        }
      ]
    },
    {
      "cell_type": "code",
      "source": [
        "# Save the array 'a' to a file named 'array1.npy'\n",
        "np.save('array1', a)\n",
        "\n",
        "# Save arrays 'a' and 'b' into a single compressed file named 'array2.npz'\n",
        "np.savez('array2', a=a, b=b)\n",
        "!ls"
      ],
      "metadata": {
        "colab": {
          "base_uri": "https://localhost:8080/"
        },
        "id": "fzGjJQxrRyJM",
        "outputId": "a760d3ae-350d-40af-edd1-c4bf0872f8ac"
      },
      "execution_count": null,
      "outputs": [
        {
          "output_type": "stream",
          "name": "stdout",
          "text": [
            "array1.npy  array2.npz\tarray.txt  sample_data\n"
          ]
        }
      ]
    },
    {
      "cell_type": "code",
      "source": [
        "# Load the array stored in 'array1.npy' into a variable\n",
        "array1 = np.load('array1.npy')\n",
        "\n",
        "# Print the loaded array to see its contents\n",
        "print(array1)  # This will display the contents of the array stored in 'array1.npy'\n"
      ],
      "metadata": {
        "colab": {
          "base_uri": "https://localhost:8080/"
        },
        "id": "vnhN0EqOS4W3",
        "outputId": "d8579531-6be2-4308-ebe8-9a43ecf8e9bb"
      },
      "execution_count": null,
      "outputs": [
        {
          "output_type": "stream",
          "name": "stdout",
          "text": [
            "[1 2 3 4]\n"
          ]
        }
      ]
    },
    {
      "cell_type": "code",
      "source": [
        "# Load the arrays stored in 'array2.npz' into a dictionary-like object called 'loaded_array'\n",
        "loaded_array = np.load('array2.npz')\n",
        "\n",
        "# Print the 'loaded_array' object to see its contents, which includes metadata and keys\n",
        "print(loaded_array)  # This will display the keys and possibly other information stored in 'array2.npz'\n",
        "\n",
        "# Access and print the array stored under the key 'a' in the 'loaded_array'\n",
        "print(\"Loaded Array 1:\", loaded_array['a'])  # This will output the array corresponding to the key 'a'\n",
        "\n",
        "# Access and print the array stored under the key 'b' in the 'loaded_array'\n",
        "print(\"Loaded Array 2:\", loaded_array['b'])  # This will output the array corresponding to the key 'b'\n"
      ],
      "metadata": {
        "colab": {
          "base_uri": "https://localhost:8080/"
        },
        "id": "k5YLJfraMVGB",
        "outputId": "77094803-f3cc-4504-df3e-852e862cfbd5"
      },
      "execution_count": null,
      "outputs": [
        {
          "output_type": "stream",
          "name": "stdout",
          "text": [
            "NpzFile 'array2.npz' with keys: a, b\n",
            "Loaded Array 1: [1 2 3 4]\n",
            "Loaded Array 2: [6.9 8.8 9.1 4.2]\n"
          ]
        }
      ]
    },
    {
      "cell_type": "code",
      "source": [
        "np.savetxt('array.txt', np.array([[6, 9], [7, 8]]), delimiter=',')\n",
        "\n",
        "# Loading the data from the text file\n",
        "loaded_txt_array = np.loadtxt('array.txt', delimiter=',')\n",
        "print(\"Loaded Text Array:\\n\", loaded_txt_array)\n"
      ],
      "metadata": {
        "colab": {
          "base_uri": "https://localhost:8080/"
        },
        "id": "yjIo4raAPBoi",
        "outputId": "e39c01cd-de38-4d81-9f33-9ccbc34d8361"
      },
      "execution_count": null,
      "outputs": [
        {
          "output_type": "stream",
          "name": "stdout",
          "text": [
            "Loaded Text Array:\n",
            " [[6. 9.]\n",
            " [7. 8.]]\n"
          ]
        }
      ]
    },
    {
      "cell_type": "code",
      "source": [
        "# Print the shape (dimensions) of the array 'd'\n",
        "print(d.shape)  # This will output a tuple representing the dimensions of array 'd', e.g., (rows, columns) for a 2D array\n",
        "\n",
        "# Print the length (number of elements) along the first axis of the array 'a'\n",
        "print(len(a))  # This will output the number of elements in the first dimension of array 'a' (i.e., the number of rows in a 2D array)\n",
        "\n",
        "# Print the number of dimensions of the array 'd'\n",
        "print(d.ndim)  # This will output the number of dimensions (axes) of array 'd', e.g., 2 for a 2D array\n",
        "\n",
        "# Print the total number of elements in the array 'a'\n",
        "print(a.size)\n",
        "\n",
        "# Print the data type of the elements in the array 'b'\n",
        "print(b.dtype)\n"
      ],
      "metadata": {
        "colab": {
          "base_uri": "https://localhost:8080/"
        },
        "id": "UrUc27elTGOM",
        "outputId": "0f29f4e1-f016-4fdc-8736-9a602cb0401d"
      },
      "execution_count": null,
      "outputs": [
        {
          "output_type": "stream",
          "name": "stdout",
          "text": [
            "(2, 3)\n",
            "4\n",
            "2\n",
            "4\n",
            "float64\n"
          ]
        }
      ]
    },
    {
      "cell_type": "code",
      "source": [
        "print(a.sum())  # This will output the sum of all the elements in array 'a'\n",
        "\n",
        "print(a.min())  # This will output the smallest value in array 'a'\n",
        "\n",
        "print(a.mean())  # This will output the average value of the elements in array 'a'\n"
      ],
      "metadata": {
        "colab": {
          "base_uri": "https://localhost:8080/"
        },
        "id": "E8RXoREQU-Q1",
        "outputId": "0eb7f05e-7ef2-48fd-fda2-ee0c251e6453"
      },
      "execution_count": null,
      "outputs": [
        {
          "output_type": "stream",
          "name": "stdout",
          "text": [
            "10\n",
            "1\n",
            "2.5\n"
          ]
        }
      ]
    },
    {
      "cell_type": "code",
      "source": [
        "np.append(a,n) #n is added to a"
      ],
      "metadata": {
        "colab": {
          "base_uri": "https://localhost:8080/"
        },
        "id": "i9vLxpUVVrMc",
        "outputId": "34d42d84-2f42-4600-8fed-602204e80d27"
      },
      "execution_count": null,
      "outputs": [
        {
          "output_type": "execute_result",
          "data": {
            "text/plain": [
              "array([1, 2, 3, 4, 2, 4, 3, 5])"
            ]
          },
          "metadata": {},
          "execution_count": 51
        }
      ]
    }
  ]
}